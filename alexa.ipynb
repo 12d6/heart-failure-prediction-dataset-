{
 "cells": [
  {
   "cell_type": "code",
   "execution_count": 1,
   "id": "15bcba20",
   "metadata": {},
   "outputs": [
    {
     "name": "stdout",
     "output_type": "stream",
     "text": [
      "Requirement already satisfied: SpeechRecognition in c:\\users\\rishi\\anaconda3\\lib\\site-packages (3.8.1)\n",
      "Note: you may need to restart the kernel to use updated packages.\n"
     ]
    }
   ],
   "source": [
    "pip install SpeechRecognition"
   ]
  },
  {
   "cell_type": "code",
   "execution_count": 2,
   "id": "4cd263a2",
   "metadata": {},
   "outputs": [
    {
     "name": "stdout",
     "output_type": "stream",
     "text": [
      "Requirement already satisfied: pyttsx3 in c:\\users\\rishi\\anaconda3\\lib\\site-packages (2.90)\n",
      "Requirement already satisfied: pypiwin32 in c:\\users\\rishi\\anaconda3\\lib\\site-packages (from pyttsx3) (223)\n",
      "Requirement already satisfied: comtypes in c:\\users\\rishi\\anaconda3\\lib\\site-packages (from pyttsx3) (1.1.9)\n",
      "Requirement already satisfied: pywin32 in c:\\users\\rishi\\anaconda3\\lib\\site-packages (from pyttsx3) (227)\n",
      "Note: you may need to restart the kernel to use updated packages.\n"
     ]
    }
   ],
   "source": [
    "pip install pyttsx3"
   ]
  },
  {
   "cell_type": "code",
   "execution_count": null,
   "id": "62f55795",
   "metadata": {},
   "outputs": [
    {
     "name": "stdout",
     "output_type": "stream",
     "text": [
      "listening!!\n"
     ]
    }
   ],
   "source": [
    "\n",
    "#Importing Libraries\n",
    "import speech_recognition as sr\n",
    "\n",
    "listener = sr.Recognizer()\n",
    "try:\n",
    "    with sr.Microphone() as source:\n",
    "        print('listening!!')\n",
    "        voice=listener.listen(source)\n",
    "        command = listener.recognize_google(voice)\n",
    "        command = command.lower()\n",
    "        print(command)\n",
    "        if ' alexa ' in command:\n",
    "            print(command)\n",
    "        else:\n",
    "            print(no)\n",
    "except:\n",
    "    pass\n",
    "        \n",
    "        \n",
    "\n",
    "\n",
    "\n",
    "    \n",
    "    "
   ]
  },
  {
   "cell_type": "code",
   "execution_count": null,
   "id": "318ef655",
   "metadata": {},
   "outputs": [],
   "source": []
  },
  {
   "cell_type": "code",
   "execution_count": null,
   "id": "4171a808",
   "metadata": {},
   "outputs": [],
   "source": []
  }
 ],
 "metadata": {
  "kernelspec": {
   "display_name": "Python 3",
   "language": "python",
   "name": "python3"
  },
  "language_info": {
   "codemirror_mode": {
    "name": "ipython",
    "version": 3
   },
   "file_extension": ".py",
   "mimetype": "text/x-python",
   "name": "python",
   "nbconvert_exporter": "python",
   "pygments_lexer": "ipython3",
   "version": "3.8.8"
  }
 },
 "nbformat": 4,
 "nbformat_minor": 5
}
